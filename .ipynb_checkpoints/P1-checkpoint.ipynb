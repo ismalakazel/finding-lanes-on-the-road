{
 "cells": [
  {
   "cell_type": "markdown",
   "metadata": {
    "deletable": true,
    "editable": true
   },
   "source": [
    "# Finding Lane Lines on the Road\n",
    "\n",
    "Below is the code pipeline used to find lanes road images as part of the first project in the Self Driving Car course offered by Udacity. Reflections about the pipeline and its short comings are at the very bottom of the notebook."
   ]
  },
  {
   "cell_type": "code",
   "execution_count": 2,
   "metadata": {
    "collapsed": false,
    "deletable": true,
    "editable": true
   },
   "outputs": [],
   "source": [
    "# import all packages necessary to make this notebook run\n",
    "from moviepy.editor import VideoFileClip                                         \n",
    "from IPython.display import HTML   \n",
    "import matplotlib.pyplot as plot\n",
    "import matplotlib.image as mimage\n",
    "import numpy\n",
    "import cv2\n",
    "import os\n",
    "import math"
   ]
  },
  {
   "cell_type": "code",
   "execution_count": 3,
   "metadata": {
    "collapsed": false,
    "deletable": true,
    "editable": true
   },
   "outputs": [
    {
     "data": {
      "text/plain": [
       "<matplotlib.image.AxesImage at 0x11b47c240>"
      ]
     },
     "execution_count": 3,
     "metadata": {},
     "output_type": "execute_result"
    }
   ],
   "source": [
    "# define a test image to quickly test image transform functions\n",
    "test_image = mimage.imread('test_images/solidWhiteRight.jpg')\n",
    "plot.imshow(test_image)"
   ]
  },
  {
   "cell_type": "code",
   "execution_count": 4,
   "metadata": {
    "collapsed": true,
    "deletable": true,
    "editable": true
   },
   "outputs": [],
   "source": [
    "# paths where test videos are taken and outputed\n",
    "video_file_path = 'test_videos/'\n",
    "video_output_path = 'test_videos_output/'"
   ]
  },
  {
   "cell_type": "code",
   "execution_count": 5,
   "metadata": {
    "collapsed": true,
    "deletable": true,
    "editable": true
   },
   "outputs": [],
   "source": [
    "# apply grayscale transform on image\n",
    "def gray_transform(image):\n",
    "    image_gray = cv2.cvtColor(image, cv2.COLOR_BGR2GRAY)\n",
    "    return image_gray"
   ]
  },
  {
   "cell_type": "code",
   "execution_count": 6,
   "metadata": {
    "collapsed": true,
    "deletable": true,
    "editable": true
   },
   "outputs": [],
   "source": [
    "# apply guassian blur on image.\n",
    "# applying blur softens the pixels which results in softened edges when applying canny transform\n",
    "def gaussian_blur(image, kernel_size=5):\n",
    "    image_blurred = cv2.GaussianBlur(image, (kernel_size, kernel_size), 0)\n",
    "    return image_blurred"
   ]
  },
  {
   "cell_type": "code",
   "execution_count": 7,
   "metadata": {
    "collapsed": false,
    "deletable": true,
    "editable": true
   },
   "outputs": [],
   "source": [
    "# apply Canny edge detection\n",
    "# extract edged from an image\n",
    "def canny_transform(image, min=50, max=200):\n",
    "    image_canny = cv2.Canny(image, min, max)\n",
    "    return image_canny"
   ]
  },
  {
   "cell_type": "code",
   "execution_count": 8,
   "metadata": {
    "collapsed": true,
    "deletable": true,
    "editable": true
   },
   "outputs": [],
   "source": [
    "# create a polygon to isolate a region of interest in the image\n",
    "# areas outside of the polygon will be masked out, which is usefull when we try to identify lanes in the image\n",
    "# takes the vertices parameter: an array of data points(xy) that corresponds to the sides of the polygon\n",
    "def region_of_interest(image, vertices):\n",
    "    mask = numpy.zeros_like(image)   \n",
    "    \n",
    "    if len(image.shape) > 2:\n",
    "        channel_count = image.shape[2]  # i.e. 3 or 4 depending on your image\n",
    "        ignore_mask_color = (255,) * channel_count\n",
    "    else:\n",
    "        ignore_mask_color = 255\n",
    "        \n",
    "    cv2.fillPoly(mask, vertices, ignore_mask_color)\n",
    "    \n",
    "    masked_image = cv2.bitwise_and(image, mask)\n",
    "    return masked_image"
   ]
  },
  {
   "cell_type": "code",
   "execution_count": 9,
   "metadata": {
    "collapsed": true,
    "deletable": true,
    "editable": true
   },
   "outputs": [],
   "source": [
    "# # isolate yellow and white colors in image to better identify lanes in image\n",
    "# # converting the image from RGB to HSL helps to isolate both white and yellow colors in source image in this case study\n",
    "# # source: https://github.com/naokishibuya/car-finding-lane-lines/blob/master/Finding%20Lane%20Lines%20on%20the%20Road.ipynb\n",
    "# def select_white_yellow(image):\n",
    "#     converted = cv2.cvtColor(image, cv2.COLOR_RGB2HLS)\n",
    "#     # white color mask\n",
    "#     lower = numpy.uint8([0, 200, 0])\n",
    "#     upper = numpy.uint8([255, 255, 255])\n",
    "#     white_mask = cv2.inRange(converted, lower, upper)\n",
    "#     # yellow color mask\n",
    "#     lower = numpy.uint8([10, 0, 100])\n",
    "#     upper = numpy.uint8([40, 255, 255])\n",
    "#     yellow_mask = cv2.inRange(converted, lower, upper)\n",
    "#     # combine the mask\n",
    "#     mask = cv2.bitwise_or(white_mask, yellow_mask)\n",
    "#     return cv2.bitwise_and(image, image, mask = mask)"
   ]
  },
  {
   "cell_type": "code",
   "execution_count": 10,
   "metadata": {
    "collapsed": true,
    "deletable": true,
    "editable": true
   },
   "outputs": [],
   "source": [
    "# apply houghline transform to image\n",
    "# the output is the detected lines inside the region of interest mask we define\n",
    "# the input image is the output image of the region_of_interest function\n",
    "def houghline_transform(image, rho=0.4, theta=numpy.pi/180, threshold=15, min_line_len=20, max_line_gap=200):\n",
    "    houghlines = cv2.HoughLinesP(image, rho, theta, threshold, numpy.array([]), min_line_len, max_line_gap)  \n",
    "    return houghlines"
   ]
  },
  {
   "cell_type": "code",
   "execution_count": 11,
   "metadata": {
    "collapsed": false,
    "deletable": true,
    "editable": true
   },
   "outputs": [],
   "source": [
    "# convenience funtion\n",
    "# flattens an array of arrays\n",
    "def flatmap(items):                                                              \n",
    "    return [y for x in items for y in x]\n",
    "\n",
    "# returns the slope of a line\n",
    "def slope(xy):                                                                   \n",
    "    x1, y1, x2, y2 = xy[0]                                                       \n",
    "    return (y1 - y2) / (x1 - x2) \n",
    "\n",
    "# returns two arrays: [x data points of a line] and [y data points of a line]\n",
    "def get_points(line):                                                            \n",
    "    x1, y1, x2, y2 = line[0]                                                     \n",
    "    return [x1, x2], [y1, y2]  \n",
    "\n",
    "# returns a tuple of [x data points] and [y data points]\n",
    "# flattens the result of get_points: [[x1, x2], [x1, x2]] becomes [x1, x2, x1, x2 ...]\n",
    "def data_points(lines):                                                          \n",
    "    xs = [x[0] for x in map(get_points, lines)]                          \n",
    "    ys = [y[1] for y in map(get_points, lines)]                          \n",
    "    xs = flatmap(xs)                                                             \n",
    "    ys = flatmap(ys)                                                             \n",
    "    return xs, ys\n",
    "\n",
    "# filter houghlines according to their slope\n",
    "# slope < 0 are allocated in the left data points\n",
    "# slope > 0 are allocated in the right data points\n",
    "# returns a tuple with ([left x data points], [left y data points]) , ([right x data points], [right y data points])\n",
    "def split_lines(houghlines):\n",
    "    lx, ly= data_points(list(filter(lambda line: -0.899 < slope(line) < -0.5, houghlines)))\n",
    "    rx, ry= data_points(list(filter(lambda line: 0.899 > slope(line) > 0.5, houghlines)))\n",
    "    return (lx, ly), (rx, ry)\n",
    "\n",
    "# draws a line in the image\n",
    "# receives xy as parameter where xy is a tuple containing [x data points] and [y data points]\n",
    "# detect the average slope, intercept of the xy data points using polyfit\n",
    "# use the slope, intercept (m, b) to find the average x1, x2 data points\n",
    "# y1 is the height of the image and y2 is approx. half of the image\n",
    "def draw_lines(xy, image, color=(0, 200, 0), thickness=20):\n",
    "    height, width, _ = image.shape\n",
    "    x, y = xy\n",
    "    if len(x) > 0:                                                              \n",
    "        m, b = numpy.polyfit(x, y, 1)                                          \n",
    "        y1 = height\n",
    "        x1 = (y1 - b) / m                                                    \n",
    "        y2 = height/2 * 1.2                                                     \n",
    "        x2 = (y2- b) / m\n",
    "        cv2.line(image, (int(x1), height), (int(x2), int(y2)), color, thickness) \n",
    "\n",
    "    return image"
   ]
  },
  {
   "cell_type": "code",
   "execution_count": 12,
   "metadata": {
    "collapsed": false,
    "deletable": true,
    "editable": true
   },
   "outputs": [],
   "source": [
    "# output the result of lane detection pipeline\n",
    "# apply all the necessary color transforms on image before extracting lines\n",
    "# draws lines in a copy of original image and merge both as a result \n",
    "def process_image(image=test_image):\n",
    "#     image_color_filter = select_white_yellow(image)\n",
    "    image_gray = gray_transform(image)\n",
    "    image_blur = gaussian_blur(image_gray)\n",
    "    image_edges = canny_transform(image_blur)\n",
    "    mask_height, mask_width, _ = image.shape\n",
    "    image_masked = region_of_interest(image_edges, numpy.array([[(0, mask_height), (mask_width/6, mask_height/2), (mask_width - (mask_width/6), mask_height/2), (mask_width, mask_height)]], dtype=numpy.int32))\n",
    "    houghlines = houghline_transform(image_masked)\n",
    "    lines = split_lines(houghlines)\n",
    "    image_lines = numpy.copy(image)*0                                             \n",
    "    [draw_lines(xy, image_lines) for xy in lines]\n",
    "    result = cv2.addWeighted(image, 1, image_lines, 1, 0)             \n",
    "    return result\n"
   ]
  },
  {
   "cell_type": "code",
   "execution_count": 13,
   "metadata": {
    "collapsed": false,
    "deletable": true,
    "editable": true
   },
   "outputs": [
    {
     "data": {
      "text/plain": [
       "<matplotlib.image.AxesImage at 0x11b6121d0>"
      ]
     },
     "execution_count": 13,
     "metadata": {},
     "output_type": "execute_result"
    }
   ],
   "source": [
    "plot.imshow(process_image())"
   ]
  },
  {
   "cell_type": "code",
   "execution_count": 14,
   "metadata": {
    "collapsed": false,
    "deletable": true,
    "editable": true
   },
   "outputs": [],
   "source": [
    "# apply process_image pipeline in video images\n",
    "def process_video(filename):\n",
    "    output = video_output_path + filename                          \n",
    "    clip1 = VideoFileClip(video_file_path + filename)                         \n",
    "    white_clip = clip1.fl_image(process_image)\n",
    "    white_clip.write_videofile(output, audio=False) "
   ]
  },
  {
   "cell_type": "code",
   "execution_count": 15,
   "metadata": {
    "collapsed": false,
    "deletable": true,
    "editable": true
   },
   "outputs": [
    {
     "name": "stdout",
     "output_type": "stream",
     "text": [
      "[MoviePy] >>>> Building video test_videos_output/challenge.mp4\n",
      "[MoviePy] Writing video test_videos_output/challenge.mp4\n"
     ]
    },
    {
     "name": "stderr",
     "output_type": "stream",
     "text": [
      "100%|██████████| 251/251 [00:08<00:00, 28.73it/s]\n"
     ]
    },
    {
     "name": "stdout",
     "output_type": "stream",
     "text": [
      "[MoviePy] Done.\n",
      "[MoviePy] >>>> Video ready: test_videos_output/challenge.mp4 \n",
      "\n"
     ]
    }
   ],
   "source": [
    "challenge = 'challenge.mp4'\n",
    "process_video(challenge)"
   ]
  },
  {
   "cell_type": "code",
   "execution_count": 31,
   "metadata": {
    "collapsed": false,
    "deletable": true,
    "editable": true
   },
   "outputs": [
    {
     "data": {
      "text/html": [
       "\n",
       "<video width=\"960\" height=\"540\" controls>\n",
       "  <source src=\"test_videos_output/challenge.mp4\">\n",
       "</video>\n"
      ],
      "text/plain": [
       "<IPython.core.display.HTML object>"
      ]
     },
     "execution_count": 31,
     "metadata": {},
     "output_type": "execute_result"
    }
   ],
   "source": [
    "HTML(\"\"\"\n",
    "<video width=\"960\" height=\"540\" controls>\n",
    "  <source src=\"{0}\">\n",
    "</video>\n",
    "\"\"\".format(video_output_path + challenge))"
   ]
  },
  {
   "cell_type": "code",
   "execution_count": 32,
   "metadata": {
    "collapsed": false,
    "deletable": true,
    "editable": true
   },
   "outputs": [
    {
     "name": "stdout",
     "output_type": "stream",
     "text": [
      "[MoviePy] >>>> Building video test_videos_output/solidWhiteRight.mp4\n",
      "[MoviePy] Writing video test_videos_output/solidWhiteRight.mp4\n"
     ]
    },
    {
     "name": "stderr",
     "output_type": "stream",
     "text": [
      "\n",
      "  0%|          | 0/222 [00:00<?, ?it/s]\u001b[A\n",
      "  2%|▏         | 5/222 [00:00<00:04, 48.80it/s]\u001b[A\n",
      "  5%|▌         | 12/222 [00:00<00:04, 51.72it/s]\u001b[A\n",
      "  8%|▊         | 18/222 [00:00<00:03, 53.90it/s]\u001b[A\n",
      " 11%|█         | 24/222 [00:00<00:03, 54.52it/s]\u001b[A\n",
      " 14%|█▎        | 30/222 [00:00<00:03, 55.31it/s]\u001b[A\n",
      " 16%|█▌        | 36/222 [00:00<00:03, 55.23it/s]\u001b[A\n",
      " 19%|█▉        | 42/222 [00:00<00:03, 54.32it/s]\u001b[A\n",
      " 22%|██▏       | 48/222 [00:00<00:03, 52.95it/s]\u001b[A\n",
      " 24%|██▍       | 54/222 [00:01<00:03, 51.09it/s]\u001b[A\n",
      " 27%|██▋       | 59/222 [00:01<00:03, 49.71it/s]\u001b[A\n",
      " 29%|██▉       | 64/222 [00:01<00:03, 46.28it/s]\u001b[A\n",
      " 31%|███       | 69/222 [00:01<00:03, 46.07it/s]\u001b[A\n",
      " 33%|███▎      | 74/222 [00:01<00:03, 46.91it/s]\u001b[A\n",
      " 36%|███▌      | 79/222 [00:01<00:03, 47.21it/s]\u001b[A\n",
      " 38%|███▊      | 84/222 [00:01<00:02, 47.74it/s]\u001b[A\n",
      " 40%|████      | 89/222 [00:01<00:02, 46.94it/s]\u001b[A\n",
      " 42%|████▏     | 94/222 [00:01<00:02, 45.94it/s]\u001b[A\n",
      " 45%|████▍     | 99/222 [00:01<00:02, 44.36it/s]\u001b[A\n",
      " 47%|████▋     | 104/222 [00:02<00:02, 44.53it/s]\u001b[A\n",
      " 49%|████▉     | 109/222 [00:02<00:02, 45.99it/s]\u001b[A\n",
      " 51%|█████▏    | 114/222 [00:02<00:02, 46.53it/s]\u001b[A\n",
      " 54%|█████▎    | 119/222 [00:02<00:02, 47.51it/s]\u001b[A\n",
      " 56%|█████▌    | 124/222 [00:02<00:02, 46.54it/s]\u001b[A\n",
      " 58%|█████▊    | 129/222 [00:02<00:02, 45.82it/s]\u001b[A\n",
      " 60%|██████    | 134/222 [00:02<00:01, 46.81it/s]\u001b[A\n",
      " 63%|██████▎   | 140/222 [00:02<00:01, 47.55it/s]\u001b[A\n",
      " 65%|██████▌   | 145/222 [00:02<00:01, 47.26it/s]\u001b[A\n",
      " 68%|██████▊   | 150/222 [00:03<00:01, 47.24it/s]\u001b[A\n",
      " 70%|██████▉   | 155/222 [00:03<00:01, 47.37it/s]\u001b[A\n",
      " 72%|███████▏  | 160/222 [00:03<00:01, 46.65it/s]\u001b[A\n",
      " 74%|███████▍  | 165/222 [00:03<00:01, 47.35it/s]\u001b[A\n",
      " 77%|███████▋  | 171/222 [00:03<00:01, 47.89it/s]\u001b[A\n",
      " 79%|███████▉  | 176/222 [00:03<00:00, 46.75it/s]\u001b[A\n",
      " 82%|████████▏ | 181/222 [00:03<00:00, 46.74it/s]\u001b[A\n",
      " 84%|████████▍ | 186/222 [00:03<00:00, 47.45it/s]\u001b[A\n",
      " 86%|████████▋ | 192/222 [00:03<00:00, 48.50it/s]\u001b[A\n",
      " 89%|████████▉ | 198/222 [00:04<00:00, 49.41it/s]\u001b[A\n",
      " 92%|█████████▏| 204/222 [00:04<00:00, 49.97it/s]\u001b[A\n",
      " 95%|█████████▍| 210/222 [00:04<00:00, 46.84it/s]\u001b[A\n",
      " 97%|█████████▋| 215/222 [00:04<00:00, 47.53it/s]\u001b[A\n",
      "100%|█████████▉| 221/222 [00:04<00:00, 48.60it/s]\u001b[A\n",
      "\u001b[A"
     ]
    },
    {
     "name": "stdout",
     "output_type": "stream",
     "text": [
      "[MoviePy] Done.\n",
      "[MoviePy] >>>> Video ready: test_videos_output/solidWhiteRight.mp4 \n",
      "\n"
     ]
    }
   ],
   "source": [
    "solidWhiteRight = 'solidWhiteRight.mp4'\n",
    "process_video(solidWhiteRight)"
   ]
  },
  {
   "cell_type": "code",
   "execution_count": 33,
   "metadata": {
    "collapsed": false,
    "deletable": true,
    "editable": true
   },
   "outputs": [
    {
     "data": {
      "text/html": [
       "\n",
       "<video width=\"960\" height=\"540\" controls>\n",
       "  <source src=\"test_videos_output/solidWhiteRight.mp4\">\n",
       "</video>\n"
      ],
      "text/plain": [
       "<IPython.core.display.HTML object>"
      ]
     },
     "execution_count": 33,
     "metadata": {},
     "output_type": "execute_result"
    }
   ],
   "source": [
    "HTML(\"\"\"\n",
    "<video width=\"960\" height=\"540\" controls>\n",
    "  <source src=\"{0}\">\n",
    "</video>\n",
    "\"\"\".format(video_output_path + solidWhiteRight))"
   ]
  },
  {
   "cell_type": "code",
   "execution_count": 34,
   "metadata": {
    "collapsed": false,
    "deletable": true,
    "editable": true
   },
   "outputs": [
    {
     "name": "stdout",
     "output_type": "stream",
     "text": [
      "[MoviePy] >>>> Building video test_videos_output/solidYellowLeft.mp4\n",
      "[MoviePy] Writing video test_videos_output/solidYellowLeft.mp4\n"
     ]
    },
    {
     "name": "stderr",
     "output_type": "stream",
     "text": [
      "\n",
      "  0%|          | 0/682 [00:00<?, ?it/s]\u001b[A\n",
      "  1%|          | 6/682 [00:00<00:13, 50.42it/s]\u001b[A\n",
      "  2%|▏         | 12/682 [00:00<00:12, 51.69it/s]\u001b[A\n",
      "  3%|▎         | 18/682 [00:00<00:12, 52.58it/s]\u001b[A\n",
      "  4%|▎         | 24/682 [00:00<00:12, 54.19it/s]\u001b[A\n",
      "  4%|▍         | 30/682 [00:00<00:11, 55.33it/s]\u001b[A\n",
      "  5%|▌         | 36/682 [00:00<00:11, 54.95it/s]\u001b[A\n",
      "  6%|▌         | 42/682 [00:00<00:11, 53.92it/s]\u001b[A\n",
      "  7%|▋         | 48/682 [00:00<00:12, 52.56it/s]\u001b[A\n",
      "  8%|▊         | 53/682 [00:00<00:12, 51.33it/s]\u001b[A\n",
      "  9%|▊         | 58/682 [00:01<00:12, 50.03it/s]\u001b[A\n",
      "  9%|▉         | 63/682 [00:01<00:12, 49.14it/s]\u001b[A\n",
      " 10%|▉         | 68/682 [00:01<00:12, 47.99it/s]\u001b[A\n",
      " 11%|█         | 73/682 [00:01<00:13, 43.57it/s]\u001b[A\n",
      " 11%|█▏        | 78/682 [00:01<00:14, 42.78it/s]\u001b[A\n",
      " 12%|█▏        | 83/682 [00:01<00:13, 44.18it/s]\u001b[A\n",
      " 13%|█▎        | 89/682 [00:01<00:12, 46.27it/s]\u001b[A\n",
      " 14%|█▍        | 94/682 [00:01<00:12, 46.47it/s]\u001b[A\n",
      " 15%|█▍        | 99/682 [00:02<00:12, 45.34it/s]\u001b[A\n",
      " 15%|█▌        | 104/682 [00:02<00:12, 44.91it/s]\u001b[A\n",
      " 16%|█▌        | 109/682 [00:02<00:12, 45.24it/s]\u001b[A\n",
      " 17%|█▋        | 114/682 [00:02<00:12, 45.60it/s]\u001b[A\n",
      " 17%|█▋        | 119/682 [00:02<00:12, 45.68it/s]\u001b[A\n",
      " 18%|█▊        | 124/682 [00:02<00:11, 46.64it/s]\u001b[A\n",
      " 19%|█▉        | 130/682 [00:02<00:11, 47.70it/s]\u001b[A\n",
      " 20%|█▉        | 135/682 [00:02<00:11, 47.90it/s]\u001b[A\n",
      " 21%|██        | 140/682 [00:02<00:11, 45.86it/s]\u001b[A\n",
      " 21%|██▏       | 145/682 [00:03<00:12, 44.71it/s]\u001b[A\n",
      " 22%|██▏       | 150/682 [00:03<00:11, 44.71it/s]\u001b[A\n",
      " 23%|██▎       | 155/682 [00:03<00:11, 44.19it/s]\u001b[A\n",
      " 23%|██▎       | 160/682 [00:03<00:12, 41.88it/s]\u001b[A\n",
      " 24%|██▍       | 165/682 [00:03<00:11, 43.39it/s]\u001b[A\n",
      " 25%|██▍       | 170/682 [00:03<00:11, 44.13it/s]\u001b[A\n",
      " 26%|██▌       | 175/682 [00:03<00:12, 41.43it/s]\u001b[A\n",
      " 26%|██▋       | 180/682 [00:03<00:12, 41.19it/s]\u001b[A\n",
      " 27%|██▋       | 185/682 [00:03<00:11, 42.00it/s]\u001b[A\n",
      " 28%|██▊       | 190/682 [00:04<00:11, 41.09it/s]\u001b[A\n",
      " 29%|██▊       | 195/682 [00:04<00:12, 39.10it/s]\u001b[A\n",
      " 29%|██▉       | 200/682 [00:04<00:11, 41.66it/s]\u001b[A\n",
      " 30%|███       | 205/682 [00:04<00:10, 43.78it/s]\u001b[A\n",
      " 31%|███       | 211/682 [00:04<00:10, 45.53it/s]\u001b[A\n",
      " 32%|███▏      | 216/682 [00:04<00:09, 46.63it/s]\u001b[A\n",
      " 32%|███▏      | 221/682 [00:04<00:09, 47.57it/s]\u001b[A\n",
      " 33%|███▎      | 227/682 [00:04<00:09, 48.49it/s]\u001b[A\n",
      " 34%|███▍      | 233/682 [00:05<00:09, 49.34it/s]\u001b[A\n",
      " 35%|███▌      | 239/682 [00:05<00:08, 49.76it/s]\u001b[A\n",
      " 36%|███▌      | 244/682 [00:05<00:09, 47.22it/s]\u001b[A\n",
      " 37%|███▋      | 249/682 [00:05<00:09, 46.47it/s]\u001b[A\n",
      " 37%|███▋      | 254/682 [00:05<00:09, 46.27it/s]\u001b[A\n",
      " 38%|███▊      | 259/682 [00:05<00:09, 46.37it/s]\u001b[A\n",
      " 39%|███▊      | 264/682 [00:05<00:09, 45.72it/s]\u001b[A\n",
      " 39%|███▉      | 269/682 [00:05<00:08, 46.38it/s]\u001b[A\n",
      " 40%|████      | 275/682 [00:05<00:08, 47.92it/s]\u001b[A\n",
      " 41%|████      | 280/682 [00:06<00:08, 48.02it/s]\u001b[A\n",
      " 42%|████▏     | 285/682 [00:06<00:09, 42.83it/s]\u001b[A\n",
      " 43%|████▎     | 290/682 [00:06<00:09, 40.19it/s]\u001b[A\n",
      " 43%|████▎     | 296/682 [00:06<00:08, 42.97it/s]\u001b[A\n",
      " 44%|████▍     | 302/682 [00:06<00:08, 45.71it/s]\u001b[A\n",
      " 45%|████▌     | 308/682 [00:06<00:07, 47.74it/s]\u001b[A\n",
      " 46%|████▌     | 314/682 [00:06<00:07, 49.22it/s]\u001b[A\n",
      " 47%|████▋     | 320/682 [00:06<00:07, 50.11it/s]\u001b[A\n",
      " 48%|████▊     | 326/682 [00:06<00:07, 50.30it/s]\u001b[A\n",
      " 49%|████▊     | 332/682 [00:07<00:06, 51.08it/s]\u001b[A\n",
      " 50%|████▉     | 338/682 [00:07<00:06, 51.63it/s]\u001b[A\n",
      " 50%|█████     | 344/682 [00:07<00:06, 51.01it/s]\u001b[A\n",
      " 51%|█████▏    | 350/682 [00:07<00:06, 50.49it/s]\u001b[A\n",
      " 52%|█████▏    | 356/682 [00:07<00:06, 50.31it/s]\u001b[A\n",
      " 53%|█████▎    | 362/682 [00:07<00:06, 50.16it/s]\u001b[A\n",
      " 54%|█████▍    | 368/682 [00:07<00:06, 50.47it/s]\u001b[A\n",
      " 55%|█████▍    | 374/682 [00:07<00:06, 50.41it/s]\u001b[A\n",
      " 56%|█████▌    | 380/682 [00:08<00:06, 50.25it/s]\u001b[A\n",
      " 57%|█████▋    | 386/682 [00:08<00:05, 50.61it/s]\u001b[A\n",
      " 57%|█████▋    | 392/682 [00:08<00:05, 48.43it/s]\u001b[A\n",
      " 58%|█████▊    | 397/682 [00:08<00:06, 46.06it/s]\u001b[A\n",
      " 59%|█████▉    | 402/682 [00:08<00:06, 44.84it/s]\u001b[A\n",
      " 60%|█████▉    | 407/682 [00:08<00:06, 42.37it/s]\u001b[A\n",
      " 60%|██████    | 412/682 [00:08<00:07, 37.27it/s]\u001b[A\n",
      " 61%|██████    | 416/682 [00:08<00:07, 34.68it/s]\u001b[A\n",
      " 62%|██████▏   | 420/682 [00:09<00:07, 35.62it/s]\u001b[A\n",
      " 62%|██████▏   | 425/682 [00:09<00:06, 37.17it/s]\u001b[A\n",
      " 63%|██████▎   | 430/682 [00:09<00:06, 38.82it/s]\u001b[A\n",
      " 64%|██████▍   | 435/682 [00:09<00:06, 40.09it/s]\u001b[A\n",
      " 65%|██████▍   | 440/682 [00:09<00:05, 40.75it/s]\u001b[A\n",
      " 65%|██████▌   | 445/682 [00:09<00:05, 41.92it/s]\u001b[A\n",
      " 66%|██████▌   | 450/682 [00:09<00:05, 42.59it/s]\u001b[A\n",
      " 67%|██████▋   | 455/682 [00:09<00:05, 42.57it/s]\u001b[A\n",
      " 67%|██████▋   | 460/682 [00:10<00:05, 42.17it/s]\u001b[A\n",
      " 68%|██████▊   | 465/682 [00:10<00:05, 42.57it/s]\u001b[A\n",
      " 69%|██████▉   | 470/682 [00:10<00:04, 43.85it/s]\u001b[A\n",
      " 70%|██████▉   | 475/682 [00:10<00:04, 44.57it/s]\u001b[A\n",
      " 70%|███████   | 480/682 [00:10<00:04, 45.54it/s]\u001b[A\n",
      " 71%|███████   | 485/682 [00:10<00:04, 45.66it/s]\u001b[A\n",
      " 72%|███████▏  | 490/682 [00:10<00:04, 45.63it/s]\u001b[A\n",
      " 73%|███████▎  | 495/682 [00:10<00:04, 46.12it/s]\u001b[A\n",
      " 73%|███████▎  | 500/682 [00:10<00:03, 45.82it/s]\u001b[A\n",
      " 74%|███████▍  | 505/682 [00:10<00:03, 45.17it/s]\u001b[A\n",
      " 75%|███████▍  | 510/682 [00:11<00:03, 44.03it/s]\u001b[A\n",
      " 76%|███████▌  | 515/682 [00:11<00:03, 43.23it/s]\u001b[A\n",
      " 76%|███████▌  | 520/682 [00:11<00:03, 42.75it/s]\u001b[A\n",
      " 77%|███████▋  | 525/682 [00:11<00:03, 42.25it/s]\u001b[A\n",
      " 78%|███████▊  | 530/682 [00:11<00:03, 42.44it/s]\u001b[A\n",
      " 78%|███████▊  | 535/682 [00:11<00:03, 43.78it/s]\u001b[A\n",
      " 79%|███████▉  | 540/682 [00:11<00:03, 41.90it/s]\u001b[A\n",
      " 80%|███████▉  | 545/682 [00:11<00:03, 42.92it/s]\u001b[A\n",
      " 81%|████████  | 551/682 [00:12<00:02, 44.73it/s]\u001b[A\n",
      " 82%|████████▏ | 556/682 [00:12<00:02, 44.76it/s]\u001b[A\n",
      " 82%|████████▏ | 561/682 [00:12<00:02, 44.36it/s]\u001b[A\n",
      " 83%|████████▎ | 566/682 [00:12<00:02, 45.42it/s]\u001b[A\n",
      " 84%|████████▎ | 571/682 [00:12<00:02, 45.37it/s]\u001b[A\n",
      " 84%|████████▍ | 576/682 [00:12<00:02, 45.21it/s]\u001b[A\n",
      " 85%|████████▌ | 582/682 [00:12<00:02, 46.36it/s]\u001b[A\n",
      " 86%|████████▌ | 587/682 [00:12<00:02, 46.26it/s]\u001b[A\n",
      " 87%|████████▋ | 592/682 [00:12<00:01, 47.12it/s]\u001b[A\n",
      " 88%|████████▊ | 598/682 [00:13<00:01, 48.05it/s]\u001b[A\n",
      " 89%|████████▊ | 604/682 [00:13<00:01, 48.97it/s]\u001b[A\n",
      " 89%|████████▉ | 610/682 [00:13<00:01, 49.49it/s]\u001b[A\n",
      " 90%|█████████ | 616/682 [00:13<00:01, 50.07it/s]\u001b[A\n",
      " 91%|█████████ | 622/682 [00:13<00:01, 49.87it/s]\u001b[A\n",
      " 92%|█████████▏| 627/682 [00:13<00:01, 48.74it/s]\u001b[A\n",
      " 93%|█████████▎| 632/682 [00:13<00:01, 48.37it/s]\u001b[A\n",
      " 94%|█████████▎| 638/682 [00:13<00:00, 48.77it/s]\u001b[A\n",
      " 94%|█████████▍| 644/682 [00:13<00:00, 49.40it/s]\u001b[A\n",
      " 95%|█████████▌| 650/682 [00:14<00:00, 49.70it/s]\u001b[A\n",
      " 96%|█████████▌| 655/682 [00:14<00:00, 49.17it/s]\u001b[A\n",
      " 97%|█████████▋| 661/682 [00:14<00:00, 49.70it/s]\u001b[A\n",
      " 98%|█████████▊| 666/682 [00:14<00:00, 49.16it/s]\u001b[A\n",
      " 99%|█████████▊| 672/682 [00:14<00:00, 48.94it/s]\u001b[A\n",
      " 99%|█████████▉| 678/682 [00:14<00:00, 49.49it/s]\u001b[A\n",
      "100%|█████████▉| 681/682 [00:14<00:00, 46.20it/s]\u001b[A"
     ]
    },
    {
     "name": "stdout",
     "output_type": "stream",
     "text": [
      "[MoviePy] Done.\n",
      "[MoviePy] >>>> Video ready: test_videos_output/solidYellowLeft.mp4 \n",
      "\n"
     ]
    }
   ],
   "source": [
    "solidYellowLeft = 'solidYellowLeft.mp4'\n",
    "process_video(solidYellowLeft)"
   ]
  },
  {
   "cell_type": "code",
   "execution_count": 35,
   "metadata": {
    "collapsed": false,
    "deletable": true,
    "editable": true
   },
   "outputs": [
    {
     "data": {
      "text/html": [
       "\n",
       "<video width=\"960\" height=\"540\" controls>\n",
       "  <source src=\"test_videos_output/solidYellowLeft.mp4\">\n",
       "</video>\n"
      ],
      "text/plain": [
       "<IPython.core.display.HTML object>"
      ]
     },
     "execution_count": 35,
     "metadata": {},
     "output_type": "execute_result"
    }
   ],
   "source": [
    "HTML(\"\"\"\n",
    "<video width=\"960\" height=\"540\" controls>\n",
    "  <source src=\"{0}\">\n",
    "</video>\n",
    "\"\"\".format(video_output_path + solidYellowLeft))"
   ]
  },
  {
   "cell_type": "markdown",
   "metadata": {
    "deletable": true,
    "editable": true
   },
   "source": [
    "### Pipeline description:\n",
    "\n",
    "The pipeline uses the techniques learned throughout the first lesson in term 1. The two most important ones in my understanding are Canny transform and Houghline transform. These form the base concept that helps in the detection of lanes in the road images.\n",
    "\n",
    "Canny transform outputs only the strongest edges in the image, which is essential for finding lines with the Houghline transform step in the pipeline. Houghline transform outputs all possible lines found in the canny image. However before and after Canny transform and Houghline transform we need to implement a few steps to output the final result seen in the videos above. In a nutshell these steps are:\n",
    "\n",
    "- Apply grayscale transform in image to better detect edged in Canny transform. High values (white) represent strong edges, dark values (black) represent soft spots.\n",
    "\n",
    "- Apply Gaussian blur in order to smooth the pixels. This improves the noise when we apply edge detection with Canny transform.\n",
    "\n",
    "- Use Canny transform to find strong edges in the image\n",
    "\n",
    "- Isolate a region of interest in the image where relevant lines should be detected by the Houghline transform. This step masks out unnecessary edges which can be considered lines in the Houghline step.\n",
    "\n",
    "- Apply Houghline transform to find lines in the region of interest. \n",
    "\n",
    "- Split the lines into left side of image and right side of image, where each side corresponds to left and right lane in the road. Line splitting is done by finding its slope value\n",
    "\n",
    "- Draw lines using numpy.polyfit to find the average slope of x y data points and the x = (y - b) / m to find extrapolate the lines to bottom and center of image. Here y is represented by the y value of our region of interest\n",
    "\n",
    "### Shortcomings:\n",
    "\n",
    "The pipeline detects the lanes on the road and displays a line on top of them quite well. However, there are some issues with this implementation:\n",
    "\n",
    "- The line could have a more smooth feel and flicker less. \n",
    "- Areas of the image where lane color blends with background causes the lane to either break or not show at all. This can be improved with color correction as seen in the select_white_yellow function, but still seems to be far from optimal. \n",
    "- The code is not adaptive to road conditions. As an example, when the road has inconsistent lane intervals it becomes dificult to detect and draw lines. It's possible to tweak the Houghline parameters to get better results but it doesn't work equaly in all cases.\n",
    "\n",
    "Another big improvement is the detection of curves along the lines, which is not possible with this implementation.\n",
    "\n"
   ]
  }
 ],
 "metadata": {
  "anaconda-cloud": {},
  "kernelspec": {
   "display_name": "Python 3",
   "language": "python",
   "name": "python3"
  },
  "language_info": {
   "codemirror_mode": {
    "name": "ipython",
    "version": 3
   },
   "file_extension": ".py",
   "mimetype": "text/x-python",
   "name": "python",
   "nbconvert_exporter": "python",
   "pygments_lexer": "ipython3",
   "version": "3.5.2"
  },
  "widgets": {
   "state": {},
   "version": "1.1.2"
  }
 },
 "nbformat": 4,
 "nbformat_minor": 0
}
